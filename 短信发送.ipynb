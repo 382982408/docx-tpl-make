{
 "cells": [
  {
   "cell_type": "code",
   "execution_count": 1,
   "metadata": {},
   "outputs": [],
   "source": [
    "# 这个格子是生成短链接的部分\n",
    "import requests\n",
    "\n",
    "def get_short_url(url, data=None):\n",
    "    baseurl = 'http://api.t.sina.com.cn/short_url/shorten.json?source=3271760578&url_long='\n",
    "    url = baseurl + url\n",
    "    rep = requests.get(url, timeout=60)\n",
    "    return rep.json()[0]['url_short']"
   ]
  },
  {
   "cell_type": "code",
   "execution_count": 2,
   "metadata": {},
   "outputs": [],
   "source": [
    "# 这个格子是数据库的配置\n",
    "\n",
    "from sqlalchemy import create_engine\n",
    "from sqlalchemy.ext.declarative import declarative_base\n",
    "from sqlalchemy.orm import scoped_session, sessionmaker\n",
    "\n",
    "\n",
    "DB_HOST = 'rds1900ea64zb9dk510v.mysql.rds.aliyuncs.com'\n",
    "DB_USER = 'medserver'\n",
    "DB_PWD = 'Medapp2017!@#'\n",
    "DB_NAME = 'medapp'\n",
    "\n",
    "Base = declarative_base()\n",
    "engine = create_engine('mysql+mysqlconnector://%s:%s@%s/%s?charset=utf8' % (DB_USER, DB_PWD, DB_HOST, DB_NAME), encoding='utf-8',\n",
    "                       echo=False, pool_size=100, pool_recycle=10)\n",
    "db = scoped_session(sessionmaker(bind=engine, autocommit=False, autoflush=True, expire_on_commit=False))"
   ]
  },
  {
   "cell_type": "code",
   "execution_count": 6,
   "metadata": {},
   "outputs": [],
   "source": [
    "from collections import namedtuple\n",
    "\n",
    "SMS_Content = namedtuple('SMS_Content', ['name', 'phone', 'content'])\n"
   ]
  },
  {
   "cell_type": "code",
   "execution_count": 13,
   "metadata": {},
   "outputs": [
    {
     "name": "stdout",
     "output_type": "stream",
     "text": [
      "http://suo.im/4nPSgb\n"
     ]
    }
   ],
   "source": [
    "print(get_short_url('http://cdnoss.medcircle.cn/app/qrcode/0_52390_1556265361536_82928.png'))"
   ]
  },
  {
   "cell_type": "code",
   "execution_count": 22,
   "metadata": {},
   "outputs": [],
   "source": [
    "# 下面是获取数据通过mysql来获取数据\n",
    "\n",
    "from time import sleep\n",
    "from openpyxl import Workbook\n",
    "\n",
    "wb = Workbook()#建立一个工作本\n",
    "ws = wb.active#激活sheet\n",
    "ws.title='短信数据'#对sheet进行命名\n",
    "ws.append(['姓名', '手机号', '内容'])\n",
    "sql_str = \"\"\"\n",
    "select reg_barcode, reg_phone, reg_name from con_register where reg_cid=3142;\n",
    "\"\"\"\n",
    "results = db.execute(sql_str).fetchall()\n",
    "if results:\n",
    "    for result in results:\n",
    "        if result[1]:\n",
    "            content = get_short_url(result[0])\n",
    "            ws.append([result[2], result[1], content])\n",
    "wb.save(\"短信内容.xlsx\")"
   ]
  },
  {
   "cell_type": "markdown",
   "metadata": {},
   "source": [
    "# 下面是群发短信的功能，发送之前一定要查看账户里面短信的条数是否够用"
   ]
  },
  {
   "cell_type": "code",
   "execution_count": 2,
   "metadata": {},
   "outputs": [],
   "source": [
    "# 这个地方是配置的内容\n",
    "xlsxPath = '/Users/apple/Desktop/短信内容.xlsx'       # 这里配置xlsx的文件路径\n",
    "sms_sign = '【会务组】'        # 短信的签名\n",
    "phone_lab= '手机号'            # 对应的短信的列名\n",
    "name_lab = '姓名'              # 对应的姓名的列名\n",
    "content_lab = '内容'           # 对应的内容列的列名\n",
    "split_num = 500        # 一次发短信的条数\n",
    "new_content = \"\"\"你好%s:你的注册内容是\"\"\"      # 要发送的内容\n",
    "content_replace_str=('姓名',)                  # 要替换的内容，如果这个地方没有，那么上面的new_content不走，只会走content_lab列的内容\n",
    "sms_sn = \"SDK-BBX-010-28180\"                  # 短信的账号\n",
    "sms_pwd = \"1302551C14838E916EFEE9A359D93204\"        # 这个地方是后台通过java代码调用漫道的md5(sn + pwd)而成"
   ]
  },
  {
   "cell_type": "code",
   "execution_count": null,
   "metadata": {},
   "outputs": [],
   "source": [
    "# 读取数据\n",
    "from openpyxl import load_workbook\n",
    "from collections import namedtuple\n",
    "workbook = load_workbook(xlsxPath)\n",
    "#booksheet = workbook.active                #获取当前活跃的sheet,默认是第一个sheet\n",
    "sheets = workbook.get_sheet_names()         #从名称获取sheet\n",
    "booksheet = workbook.get_sheet_by_name(sheets[0])\n",
    "has_replace = bool(content_replace_str)\n",
    "rows = booksheet.rows\n",
    "titleList = None\n",
    "contentList = []\n",
    "for row in rows:\n",
    "    if not titleList:\n",
    "        # 通过第一行的标题生成Record对象\n",
    "        line = [col.value for col in row if col.value]\n",
    "        titleList = line\n",
    "        # 通过namedtuple声称对象\n",
    "        # print(titleList)\n",
    "        Record = namedtuple('Record', titleList)\n",
    "    else:\n",
    "        # 先进行检查是否到了终止的地方\n",
    "        if row[0].value:\n",
    "            # 有数据\n",
    "            singleList = [col.value for col in row[:len(titleList)]]\n",
    "            if has_replace:\n",
    "                record = Record._make(singleList)\n",
    "                singleList[titleList.index(content_lab)] = new_content % tuple((getattr(record, str(s)) for s in content_replace_str))\n",
    "            record = Record._make(singleList)\n",
    "            # print(record)\n",
    "            contentList.append(record)\n",
    "        else:\n",
    "            break;"
   ]
  },
  {
   "cell_type": "code",
   "execution_count": 3,
   "metadata": {},
   "outputs": [],
   "source": [
    "# 下面是发短信的方法\n",
    "import requests\n",
    "import re\n",
    "\n",
    "def send_sms(phone, content):\n",
    "    \"\"\"\n",
    "    发短信\n",
    "    :param phone: 手机号\n",
    "    :param content: 内容\n",
    "    :return: 如果成功，返回匹配的内容\n",
    "    \"\"\"\n",
    "    sms_url = \"http://sdk.entinfo.cn:8060/webservice.asmx\"\n",
    "    soap_action = \"http://tempuri.org/gxmt\"\n",
    "    xml = \"\"\"<?xml version=\"1.0\" encoding=\"utf-8\"?>\n",
    "    <soap:Envelope xmlns:xsi=\"http://www.w3.org/2001/XMLSchema-instance\" \n",
    "    xmlns:xsd=\"http://www.w3.org/2001/XMLSchema\" \n",
    "    xmlns:soap=\"http://schemas.xmlsoap.org/soap/envelope/\">\n",
    "    <soap:Body>\n",
    "    <gxmt xmlns=\"http://tempuri.org/\">\n",
    "    <sn>%s</sn>\n",
    "    <pwd>%s</pwd>\n",
    "    <mobile>%s</mobile>\n",
    "    <content>%s</content>\n",
    "    <ext>%s</ext>\n",
    "    <stime>%s</stime>\n",
    "    <rrid>%s</rrid>\n",
    "    </gxmt>\n",
    "    </soap:Body>\n",
    "    </soap:Envelope>\"\"\"\n",
    "    if phone and content:\n",
    "        send_xml = xml % (sms_sn, sms_pwd, phone, content, \"\",\n",
    "                          \"\", \"\")\n",
    "        head = {'Content-Type': 'text/xml; charset=utf-8', 'SOAPAction': soap_action}\n",
    "        response_text = requests.post(sms_url, headers=head, data=send_xml.encode('utf-8'))\n",
    "        print(response_text.text)\n",
    "        try:\n",
    "            search_result = re.search(r\"<gxmtResult>(.*)</gxmtResult>\", str(response_text.text), 0)\n",
    "            if search_result:\n",
    "                print(phone + \"   发送成功\")\n",
    "            else:\n",
    "                print(phone + \"   发送失败\")\n",
    "        except Exception as e:\n",
    "            print(phone + \"   发送失败\")"
   ]
  },
  {
   "cell_type": "code",
   "execution_count": 4,
   "metadata": {},
   "outputs": [
    {
     "name": "stdout",
     "output_type": "stream",
     "text": [
      "<?xml version=\"1.0\" encoding=\"utf-8\"?><soap:Envelope xmlns:soap=\"http://schemas.xmlsoap.org/soap/envelope/\" xmlns:xsi=\"http://www.w3.org/2001/XMLSchema-instance\" xmlns:xsd=\"http://www.w3.org/2001/XMLSchema\"><soap:Body><gxmtResponse xmlns=\"http://tempuri.org/\"><gxmtResult>242313590093705683</gxmtResult></gxmtResponse></soap:Body></soap:Envelope>\n",
      "15611332279   发送成功\n",
      "15611332279   发送失败\n"
     ]
    }
   ],
   "source": [
    "send_sms('15611332279', '测试内容' + sms_sign)"
   ]
  },
  {
   "cell_type": "code",
   "execution_count": 41,
   "metadata": {},
   "outputs": [
    {
     "name": "stdout",
     "output_type": "stream",
     "text": [
      "results的个数：1275\n",
      "发送的次数：3\n"
     ]
    }
   ],
   "source": [
    "result_time = int(len(results) / split_num) + 1\n",
    "print(\"results的个数：\" + str(len(results)))\n",
    "print(\"发送的次数：\" + str(result_time))"
   ]
  },
  {
   "cell_type": "code",
   "execution_count": 46,
   "metadata": {},
   "outputs": [
    {
     "name": "stdout",
     "output_type": "stream",
     "text": [
      "16735167245,18718346741\n"
     ]
    }
   ],
   "source": [
    "test_str = ''\n",
    "print(test_str[0: -1])"
   ]
  },
  {
   "cell_type": "code",
   "execution_count": null,
   "metadata": {},
   "outputs": [],
   "source": [
    "if result_time == 1:\n",
    "    phone = ''\n",
    "    content = ''\n",
    "    for record in contentList:\n",
    "        phone += (str(getattr(record, phone_lab)) + ',')\n",
    "        content += (str(getattr(record, content_lab))  + sms_sign + ',')\n",
    "    if phone: \n",
    "        send_sms(phone[0: -1], content[0: -1])\n",
    "else:\n",
    "    for i in range(result_time):\n",
    "        phone = ''\n",
    "        content = ''\n",
    "        for record in contentList[i * split_num : (i + 1) * split_num]:\n",
    "            phone += (str(getattr(record, phone_lab)) + ',')\n",
    "            content += (str(getattr(record, content_lab)) + sms_sign + ',')\n",
    "        if phone:\n",
    "            send_sms(phone[0: -1], content[0: -1])"
   ]
  },
  {
   "cell_type": "code",
   "execution_count": 1,
   "metadata": {},
   "outputs": [
    {
     "name": "stdout",
     "output_type": "stream",
     "text": [
      "找到了\n"
     ]
    }
   ],
   "source": [
    "import re\n",
    "test_str = \"\"\"\n",
    "<?xml version=\"1.0\" encoding=\"utf-8\"?><soap:Envelope xmlns:soap=\"http://schemas.xmlsoap.org/soap/envelope/\" xmlns:xsi=\"http://www.w3.org/2001/XMLSchema-instance\" xmlns:xsd=\"http://www.w3.org/2001/XMLSchema\"><soap:Body><gxmtResponse xmlns=\"http://tempuri.org/\"><gxmtResult>242257401705949981</gxmtResult></gxmtResponse></soap:Body></soap:Envelope>\n",
    "\"\"\"\n",
    "search_result = re.search(r\"<gxmtResult>(.*)</gxmtResult>\", str(test_str), 0)\n",
    "if search_result:\n",
    "    print(\"找到了\")\n",
    "else:\n",
    "    print(\"没找到\")"
   ]
  },
  {
   "cell_type": "code",
   "execution_count": 2,
   "metadata": {
    "scrolled": true
   },
   "outputs": [],
   "source": [
    "# 读取数据\n",
    "from openpyxl import load_workbook, Workbook\n",
    "\n",
    "\n",
    "sql_str = \"\"\"\n",
    "select reg_barcode from con_register where reg_name='%s' and reg_phone='%s';\n",
    "\"\"\"\n",
    "workbook = load_workbook('筛选.xlsx')\n",
    "#booksheet = workbook.active                #获取当前活跃的sheet,默认是第一个sheet\n",
    "sheets = workbook.sheetnames         #从名称获取sheet\n",
    "#print(sheets)\n",
    "booksheet = workbook[sheets[0]]\n",
    "contentList = []\n",
    "rows = booksheet.rows\n",
    "for row in rows:\n",
    "    \n",
    "    # 先进行检查是否到了终止的地方\n",
    "    if row[6].value and row[6].value != '照片':\n",
    "        contentList.append(row[6].value)\n",
    "        # 有数据\n",
    "        #print(row[12].value)\n",
    "        #results = db.execute(sql_str % (row[1].value,row[3].value)).fetchall()\n",
    "        #print(results)\n",
    "        #print(results)\n",
    "        #if results:\n",
    "        #    contentList.append(results[0][0])\n",
    "            #ws.append(get_short_url(results[0][0]))\n",
    "        #else:\n",
    "            #ws.append(\"\")\n",
    "            #print(\"无\")\n",
    "    #else:\n",
    "    #    break;\n",
    "#wb.save('短信内容.xlsx')"
   ]
  },
  {
   "cell_type": "code",
   "execution_count": 16,
   "metadata": {},
   "outputs": [
    {
     "name": "stdout",
     "output_type": "stream",
     "text": [
      "<class 'str'>\n"
     ]
    }
   ],
   "source": [
    "sql_str = \"\"\"\n",
    "select reg_barcode from con_register where reg_code=%s;\n",
    "\"\"\"\n",
    "results = db.execute(sql_str % '4103142058161').fetchall()\n",
    "print(type(results[0][0]))"
   ]
  },
  {
   "cell_type": "code",
   "execution_count": 5,
   "metadata": {
    "scrolled": true
   },
   "outputs": [],
   "source": [
    "wb = Workbook()#建立一个工作本\n",
    "ws = wb.active#激活sheet\n",
    "ws.title='短信数据'#对sheet进行命名\n",
    "ws.append(['内容'])\n",
    "for str_url in contentList:\n",
    "    ws.append([get_short_url(str_url)])\n",
    "wb.save('短信内容.xlsx')"
   ]
  },
  {
   "cell_type": "code",
   "execution_count": 3,
   "metadata": {},
   "outputs": [
    {
     "data": {
      "text/plain": [
       "['http://cdnoss.medcircle.cn/app/icon/8_0_0_1558790278318_85391.jpeg',\n",
       " 'http://cdnoss.medcircle.cn/app/icon/8_0_0_1558787299865_22172.jpg',\n",
       " 'http://cdnoss.medcircle.cn/app/icon/8_0_0_1558758210115_15260.jpg',\n",
       " 'http://cdnoss.medcircle.cn/app/icon/8_0_0_1558751162585_16561.jpeg',\n",
       " 'http://cdnoss.medcircle.cn/app/icon/8_0_0_1558749351918_49403.jpeg',\n",
       " 'http://cdnoss.medcircle.cn/app/icon/8_0_0_1557801382414_26826.jpeg',\n",
       " 'http://cdnoss.medcircle.cn/app/icon/8_0_0_1558746279983_74174.jpeg',\n",
       " 'http://cdnoss.medcircle.cn/app/icon/8_0_0_1558713660198_81815.jpg',\n",
       " 'http://cdnoss.medcircle.cn/app/icon/8_0_0_1558707358235_22986.jpg',\n",
       " 'http://cdnoss.medcircle.cn/app/icon/8_0_0_1558699837552_75589.JPG',\n",
       " 'http://cdnoss.medcircle.cn/app/icon/8_0_0_1558691461941_11880.jpeg',\n",
       " 'http://cdnoss.medcircle.cn/app/icon/8_0_0_1558690037932_60794.jpeg',\n",
       " 'http://cdnoss.medcircle.cn/app/icon/8_0_0_1558685094197_49319.jpeg',\n",
       " 'http://cdnoss.medcircle.cn/app/icon/8_0_0_1558684309494_48435.jpg',\n",
       " 'http://cdnoss.medcircle.cn/app/icon/8_0_0_1558684297647_66277.jpeg',\n",
       " 'http://cdnoss.medcircle.cn/app/icon/8_0_0_1558684255343_28636.jpeg',\n",
       " 'http://cdnoss.medcircle.cn/app/icon/8_0_0_1558683890374_3114.jpeg',\n",
       " 'http://cdnoss.medcircle.cn/app/icon/8_0_0_1558682519250_42213.jpeg',\n",
       " 'http://cdnoss.medcircle.cn/app/icon/8_0_0_1558680476253_28969.jpg',\n",
       " 'http://cdnoss.medcircle.cn/app/icon/8_0_0_1558679334532_83721.jpg',\n",
       " 'http://cdnoss.medcircle.cn/app/icon/8_0_0_1558678103549_58471.jpeg',\n",
       " 'http://cdnoss.medcircle.cn/app/icon/8_0_0_1558676657736_32976.jpg',\n",
       " 'http://cdnoss.medcircle.cn/app/icon/8_0_0_1558675730795_63712.jpg',\n",
       " 'http://cdnoss.medcircle.cn/app/icon/8_0_0_1558673218900_90012.jpg',\n",
       " 'http://cdnoss.medcircle.cn/app/icon/8_0_0_1558671118298_59007.jpeg',\n",
       " 'http://cdnoss.medcircle.cn/app/icon/8_0_0_1558669935441_17823.jpg',\n",
       " 'http://cdnoss.medcircle.cn/app/icon/8_0_0_1558667318744_42813.jpeg',\n",
       " 'http://cdnoss.medcircle.cn/app/icon/8_0_0_1558663841670_7785.jpg',\n",
       " 'http://cdnoss.medcircle.cn/app/icon/8_0_0_1558663643717_19530.jpg',\n",
       " 'http://cdnoss.medcircle.cn/app/icon/8_0_0_1558662945243_96489.jpg',\n",
       " 'http://cdnoss.medcircle.cn/app/icon/8_0_0_1558662322663_8547.png',\n",
       " 'http://cdnoss.medcircle.cn/app/icon/8_0_0_1558660303127_83473.jpg',\n",
       " 'http://cdnoss.medcircle.cn/app/icon/8_0_0_1558659335032_11311.jpeg',\n",
       " 'http://cdnoss.medcircle.cn/app/icon/8_0_0_1558656413741_93072.jpeg',\n",
       " 'http://cdnoss.medcircle.cn/app/icon/8_0_0_1558652968762_51604.jpeg',\n",
       " 'http://cdnoss.medcircle.cn/app/icon/8_0_0_1558652365676_55028.jpeg']"
      ]
     },
     "execution_count": 3,
     "metadata": {},
     "output_type": "execute_result"
    }
   ],
   "source": [
    "contentList"
   ]
  },
  {
   "cell_type": "code",
   "execution_count": null,
   "metadata": {},
   "outputs": [],
   "source": []
  }
 ],
 "metadata": {
  "kernelspec": {
   "display_name": "Python 3",
   "language": "python",
   "name": "python3"
  },
  "language_info": {
   "codemirror_mode": {
    "name": "ipython",
    "version": 3
   },
   "file_extension": ".py",
   "mimetype": "text/x-python",
   "name": "python",
   "nbconvert_exporter": "python",
   "pygments_lexer": "ipython3",
   "version": "3.7.3"
  }
 },
 "nbformat": 4,
 "nbformat_minor": 2
}
