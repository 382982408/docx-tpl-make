{
 "cells": [
  {
   "cell_type": "markdown",
   "metadata": {},
   "source": [
    "# 准备工作\n",
    "1. 安装python\n",
    "2. 通过pip install openpyxl（没安装的安装）\n",
    "3. 通过pip install docxtl(没有安装的安装)\n",
    "# 使用\n",
    "1. 要xlsx文件，并且进行整理\n",
    "2. 制作模板\n",
    "    * 在不涉及列表循环的地方，在想要替换的地方通过*{{ 参会人名 }}*[其中的‘参会人名’是xlsx文件中的第一列的对应名称]来替换；\n",
    "    * 在设计列表循环的地方，只留下一列，之后上下分别增加一列，并且合并单元格。然后上面的那行输入*{%tr for item in items%}*。在下面的一行输入*{%tr endfor %}*。并且在循环里面通过`{{item.参会人名}}`来进行替换。\n",
    "    * **特别注意：**制作完模板要关闭掉word。\n",
    "3. 配置下面这个块的内容\n",
    "4. 挨个执行"
   ]
  },
  {
   "cell_type": "code",
   "execution_count": null,
   "metadata": {},
   "outputs": [],
   "source": [
    "# 这个小块是一些配置\n",
    "xlsxPath = '/Users/apple/Desktop/任务书数据.xlsx'       # 这里配置xlsx的文件路径\n",
    "tplPath = '/Users/apple/Desktop/活动安排-任务书.docx'           # 模板文件的路径\n",
    "namedVlue = '参会人名'                 # 在xlsx中代表姓名的栏目的名称\n",
    "outPutdir = '/Users/apple/Desktop/docx/'             # 输出的文件夹名\n",
    "isSimple = True             # 是否是简单的，就是一条生成一个。不是这里改False"
   ]
  },
  {
   "cell_type": "code",
   "execution_count": null,
   "metadata": {},
   "outputs": [],
   "source": [
    "# 读取数据\n",
    "from openpyxl import load_workbook\n",
    "from collections import namedtuple\n",
    "\n",
    "\n",
    "workbook = load_workbook(xlsxPath)\n",
    "#booksheet = workbook.active                #获取当前活跃的sheet,默认是第一个sheet\n",
    "sheets = workbook.get_sheet_names()         #从名称获取sheet\n",
    "booksheet = workbook.get_sheet_by_name(sheets[0])\n",
    " \n",
    "rows = booksheet.rows\n",
    "titleList = None\n",
    "contentList = []\n",
    "for row in rows:\n",
    "    if not titleList:\n",
    "        # 通过第一行的标题生成Record对象\n",
    "        line = [col.value for col in row if col.value]\n",
    "        titleList = line\n",
    "        # 通过namedtuple声称对象\n",
    "        # print(titleList)\n",
    "        Record = namedtuple('Record', titleList)\n",
    "    else:\n",
    "        # 先进行检查是否到了终止的地方\n",
    "        if row[0].value and row[1].value:\n",
    "            # 有数据\n",
    "            singleList = [col.value for col in row[:len(titleList)]]\n",
    "            record = Record._make(singleList)\n",
    "            # print(record)\n",
    "            contentList.append(record)\n",
    "        else:\n",
    "            break;"
   ]
  },
  {
   "cell_type": "code",
   "execution_count": null,
   "metadata": {},
   "outputs": [],
   "source": [
    "# 模板生成\n",
    "from docxtpl import DocxTemplate\n",
    "import os\n",
    "if not outPutdir.endswith(os.path.sep):\n",
    "    outPutdir = outPutdir + os.path.sep\n",
    "if not os.path.exists(outPutdir):\n",
    "    os.makedirs(outPutdir)\n",
    "tpl = DocxTemplate(tplPath)          # 这个是模板的地址\n",
    "# 获取模板文件的后缀\n",
    "fileType = tplPath[tplPath.rindex('.') + 1]\n",
    "# 判断是否是多条一个文件的。\n",
    "if isSimple:\n",
    "    for record in contentList:\n",
    "        context = record._asdict()\n",
    "        tpl.render(context)\n",
    "        tpl.save(outPutdir + namedVlue + fileType)\n",
    "else:\n",
    "    from collections import defaultdict\n",
    "    complexDict = defaultdict(list)\n",
    "    for record in contentList:\n",
    "        complexDict[getattr(record, namedVlue)].append(record)\n",
    "    for recordList in complexDict.values():\n",
    "        context = recordList[0]._asdict()\n",
    "        context['items'] = recordList\n",
    "        print(context)\n",
    "        tpl.render(context)\n",
    "        tpl.save(outPutdir + namedVlue + fileType)"
   ]
  },
  {
   "cell_type": "code",
   "execution_count": null,
   "metadata": {},
   "outputs": [],
   "source": []
  }
 ],
 "metadata": {
  "kernelspec": {
   "display_name": "Python 3",
   "language": "python",
   "name": "python3"
  },
  "language_info": {
   "codemirror_mode": {
    "name": "ipython",
    "version": 3
   },
   "file_extension": ".py",
   "mimetype": "text/x-python",
   "name": "python",
   "nbconvert_exporter": "python",
   "pygments_lexer": "ipython3",
   "version": "3.6.7"
  }
 },
 "nbformat": 4,
 "nbformat_minor": 2
}
